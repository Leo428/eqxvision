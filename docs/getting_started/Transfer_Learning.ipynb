{
 "nbformat": 4,
 "nbformat_minor": 0,
 "metadata": {
  "colab": {
   "name": "Transfer Learning.ipynb",
   "provenance": [],
   "collapsed_sections": [],
   "machine_shape": "hm",
   "authorship_tag": "ABX9TyMJAT7cIi6r6qjTofllguSA",
   "include_colab_link": true
  },
  "kernelspec": {
   "name": "python3",
   "display_name": "Python 3"
  },
  "language_info": {
   "name": "python"
  },
  "accelerator": "GPU",
  "gpuClass": "standard",
  "widgets": {
   "application/vnd.jupyter.widget-state+json": {
    "0ae136421dc04745895c2b95bfef2ce9": {
     "model_module": "@jupyter-widgets/controls",
     "model_name": "HBoxModel",
     "model_module_version": "1.5.0",
     "state": {
      "_dom_classes": [],
      "_model_module": "@jupyter-widgets/controls",
      "_model_module_version": "1.5.0",
      "_model_name": "HBoxModel",
      "_view_count": null,
      "_view_module": "@jupyter-widgets/controls",
      "_view_module_version": "1.5.0",
      "_view_name": "HBoxView",
      "box_style": "",
      "children": [
       "IPY_MODEL_760ef56f8ec240ac925c0a040ef841ac",
       "IPY_MODEL_b3d8b603ff9c428ca0bdc2e8e6a34beb",
       "IPY_MODEL_e76333a07746477194966cbf52c2db17"
      ],
      "layout": "IPY_MODEL_17129201f8774342917e179770ca7fdf"
     }
    },
    "760ef56f8ec240ac925c0a040ef841ac": {
     "model_module": "@jupyter-widgets/controls",
     "model_name": "HTMLModel",
     "model_module_version": "1.5.0",
     "state": {
      "_dom_classes": [],
      "_model_module": "@jupyter-widgets/controls",
      "_model_module_version": "1.5.0",
      "_model_name": "HTMLModel",
      "_view_count": null,
      "_view_module": "@jupyter-widgets/controls",
      "_view_module_version": "1.5.0",
      "_view_name": "HTMLView",
      "description": "",
      "description_tooltip": null,
      "layout": "IPY_MODEL_56f23baa2bb94c9fb2486a21655a139d",
      "placeholder": "​",
      "style": "IPY_MODEL_6c9f74560ada46ec8a4f0591ccb691cc",
      "value": "100%"
     }
    },
    "b3d8b603ff9c428ca0bdc2e8e6a34beb": {
     "model_module": "@jupyter-widgets/controls",
     "model_name": "FloatProgressModel",
     "model_module_version": "1.5.0",
     "state": {
      "_dom_classes": [],
      "_model_module": "@jupyter-widgets/controls",
      "_model_module_version": "1.5.0",
      "_model_name": "FloatProgressModel",
      "_view_count": null,
      "_view_module": "@jupyter-widgets/controls",
      "_view_module_version": "1.5.0",
      "_view_name": "ProgressView",
      "bar_style": "success",
      "description": "",
      "description_tooltip": null,
      "layout": "IPY_MODEL_1b080f5bc3af418ba5a22347cdc1bc21",
      "max": 2640397119,
      "min": 0,
      "orientation": "horizontal",
      "style": "IPY_MODEL_2ba493433dad49d09de9623ec381de5b",
      "value": 2640397119
     }
    },
    "e76333a07746477194966cbf52c2db17": {
     "model_module": "@jupyter-widgets/controls",
     "model_name": "HTMLModel",
     "model_module_version": "1.5.0",
     "state": {
      "_dom_classes": [],
      "_model_module": "@jupyter-widgets/controls",
      "_model_module_version": "1.5.0",
      "_model_name": "HTMLModel",
      "_view_count": null,
      "_view_module": "@jupyter-widgets/controls",
      "_view_module_version": "1.5.0",
      "_view_name": "HTMLView",
      "description": "",
      "description_tooltip": null,
      "layout": "IPY_MODEL_c157b743510f4cbb97c0fb6f4bba71cf",
      "placeholder": "​",
      "style": "IPY_MODEL_500f1c0911e946e0a062cfe7c0a4a2f9",
      "value": " 2640397119/2640397119 [00:23&lt;00:00, 116719719.76it/s]"
     }
    },
    "17129201f8774342917e179770ca7fdf": {
     "model_module": "@jupyter-widgets/base",
     "model_name": "LayoutModel",
     "model_module_version": "1.2.0",
     "state": {
      "_model_module": "@jupyter-widgets/base",
      "_model_module_version": "1.2.0",
      "_model_name": "LayoutModel",
      "_view_count": null,
      "_view_module": "@jupyter-widgets/base",
      "_view_module_version": "1.2.0",
      "_view_name": "LayoutView",
      "align_content": null,
      "align_items": null,
      "align_self": null,
      "border": null,
      "bottom": null,
      "display": null,
      "flex": null,
      "flex_flow": null,
      "grid_area": null,
      "grid_auto_columns": null,
      "grid_auto_flow": null,
      "grid_auto_rows": null,
      "grid_column": null,
      "grid_gap": null,
      "grid_row": null,
      "grid_template_areas": null,
      "grid_template_columns": null,
      "grid_template_rows": null,
      "height": null,
      "justify_content": null,
      "justify_items": null,
      "left": null,
      "margin": null,
      "max_height": null,
      "max_width": null,
      "min_height": null,
      "min_width": null,
      "object_fit": null,
      "object_position": null,
      "order": null,
      "overflow": null,
      "overflow_x": null,
      "overflow_y": null,
      "padding": null,
      "right": null,
      "top": null,
      "visibility": null,
      "width": null
     }
    },
    "56f23baa2bb94c9fb2486a21655a139d": {
     "model_module": "@jupyter-widgets/base",
     "model_name": "LayoutModel",
     "model_module_version": "1.2.0",
     "state": {
      "_model_module": "@jupyter-widgets/base",
      "_model_module_version": "1.2.0",
      "_model_name": "LayoutModel",
      "_view_count": null,
      "_view_module": "@jupyter-widgets/base",
      "_view_module_version": "1.2.0",
      "_view_name": "LayoutView",
      "align_content": null,
      "align_items": null,
      "align_self": null,
      "border": null,
      "bottom": null,
      "display": null,
      "flex": null,
      "flex_flow": null,
      "grid_area": null,
      "grid_auto_columns": null,
      "grid_auto_flow": null,
      "grid_auto_rows": null,
      "grid_column": null,
      "grid_gap": null,
      "grid_row": null,
      "grid_template_areas": null,
      "grid_template_columns": null,
      "grid_template_rows": null,
      "height": null,
      "justify_content": null,
      "justify_items": null,
      "left": null,
      "margin": null,
      "max_height": null,
      "max_width": null,
      "min_height": null,
      "min_width": null,
      "object_fit": null,
      "object_position": null,
      "order": null,
      "overflow": null,
      "overflow_x": null,
      "overflow_y": null,
      "padding": null,
      "right": null,
      "top": null,
      "visibility": null,
      "width": null
     }
    },
    "6c9f74560ada46ec8a4f0591ccb691cc": {
     "model_module": "@jupyter-widgets/controls",
     "model_name": "DescriptionStyleModel",
     "model_module_version": "1.5.0",
     "state": {
      "_model_module": "@jupyter-widgets/controls",
      "_model_module_version": "1.5.0",
      "_model_name": "DescriptionStyleModel",
      "_view_count": null,
      "_view_module": "@jupyter-widgets/base",
      "_view_module_version": "1.2.0",
      "_view_name": "StyleView",
      "description_width": ""
     }
    },
    "1b080f5bc3af418ba5a22347cdc1bc21": {
     "model_module": "@jupyter-widgets/base",
     "model_name": "LayoutModel",
     "model_module_version": "1.2.0",
     "state": {
      "_model_module": "@jupyter-widgets/base",
      "_model_module_version": "1.2.0",
      "_model_name": "LayoutModel",
      "_view_count": null,
      "_view_module": "@jupyter-widgets/base",
      "_view_module_version": "1.2.0",
      "_view_name": "LayoutView",
      "align_content": null,
      "align_items": null,
      "align_self": null,
      "border": null,
      "bottom": null,
      "display": null,
      "flex": null,
      "flex_flow": null,
      "grid_area": null,
      "grid_auto_columns": null,
      "grid_auto_flow": null,
      "grid_auto_rows": null,
      "grid_column": null,
      "grid_gap": null,
      "grid_row": null,
      "grid_template_areas": null,
      "grid_template_columns": null,
      "grid_template_rows": null,
      "height": null,
      "justify_content": null,
      "justify_items": null,
      "left": null,
      "margin": null,
      "max_height": null,
      "max_width": null,
      "min_height": null,
      "min_width": null,
      "object_fit": null,
      "object_position": null,
      "order": null,
      "overflow": null,
      "overflow_x": null,
      "overflow_y": null,
      "padding": null,
      "right": null,
      "top": null,
      "visibility": null,
      "width": null
     }
    },
    "2ba493433dad49d09de9623ec381de5b": {
     "model_module": "@jupyter-widgets/controls",
     "model_name": "ProgressStyleModel",
     "model_module_version": "1.5.0",
     "state": {
      "_model_module": "@jupyter-widgets/controls",
      "_model_module_version": "1.5.0",
      "_model_name": "ProgressStyleModel",
      "_view_count": null,
      "_view_module": "@jupyter-widgets/base",
      "_view_module_version": "1.2.0",
      "_view_name": "StyleView",
      "bar_color": null,
      "description_width": ""
     }
    },
    "c157b743510f4cbb97c0fb6f4bba71cf": {
     "model_module": "@jupyter-widgets/base",
     "model_name": "LayoutModel",
     "model_module_version": "1.2.0",
     "state": {
      "_model_module": "@jupyter-widgets/base",
      "_model_module_version": "1.2.0",
      "_model_name": "LayoutModel",
      "_view_count": null,
      "_view_module": "@jupyter-widgets/base",
      "_view_module_version": "1.2.0",
      "_view_name": "LayoutView",
      "align_content": null,
      "align_items": null,
      "align_self": null,
      "border": null,
      "bottom": null,
      "display": null,
      "flex": null,
      "flex_flow": null,
      "grid_area": null,
      "grid_auto_columns": null,
      "grid_auto_flow": null,
      "grid_auto_rows": null,
      "grid_column": null,
      "grid_gap": null,
      "grid_row": null,
      "grid_template_areas": null,
      "grid_template_columns": null,
      "grid_template_rows": null,
      "height": null,
      "justify_content": null,
      "justify_items": null,
      "left": null,
      "margin": null,
      "max_height": null,
      "max_width": null,
      "min_height": null,
      "min_width": null,
      "object_fit": null,
      "object_position": null,
      "order": null,
      "overflow": null,
      "overflow_x": null,
      "overflow_y": null,
      "padding": null,
      "right": null,
      "top": null,
      "visibility": null,
      "width": null
     }
    },
    "500f1c0911e946e0a062cfe7c0a4a2f9": {
     "model_module": "@jupyter-widgets/controls",
     "model_name": "DescriptionStyleModel",
     "model_module_version": "1.5.0",
     "state": {
      "_model_module": "@jupyter-widgets/controls",
      "_model_module_version": "1.5.0",
      "_model_name": "DescriptionStyleModel",
      "_view_count": null,
      "_view_module": "@jupyter-widgets/base",
      "_view_module_version": "1.2.0",
      "_view_name": "StyleView",
      "description_width": ""
     }
    },
    "38c0beb18d2d4b3487a6b8606bc650e5": {
     "model_module": "@jupyter-widgets/controls",
     "model_name": "HBoxModel",
     "model_module_version": "1.5.0",
     "state": {
      "_dom_classes": [],
      "_model_module": "@jupyter-widgets/controls",
      "_model_module_version": "1.5.0",
      "_model_name": "HBoxModel",
      "_view_count": null,
      "_view_module": "@jupyter-widgets/controls",
      "_view_module_version": "1.5.0",
      "_view_name": "HBoxView",
      "box_style": "",
      "children": [
       "IPY_MODEL_2f7d6e6b988343f994ce1bfb592bc61d",
       "IPY_MODEL_d7031b8b2eaa42b8b030d1a0de734a86",
       "IPY_MODEL_eae084a00fae4a93ad316fd9d32d4838"
      ],
      "layout": "IPY_MODEL_e5beb60211dd454e91f38716a8ece77e"
     }
    },
    "2f7d6e6b988343f994ce1bfb592bc61d": {
     "model_module": "@jupyter-widgets/controls",
     "model_name": "HTMLModel",
     "model_module_version": "1.5.0",
     "state": {
      "_dom_classes": [],
      "_model_module": "@jupyter-widgets/controls",
      "_model_module_version": "1.5.0",
      "_model_name": "HTMLModel",
      "_view_count": null,
      "_view_module": "@jupyter-widgets/controls",
      "_view_module_version": "1.5.0",
      "_view_name": "HTMLView",
      "description": "",
      "description_tooltip": null,
      "layout": "IPY_MODEL_f41d3b2e87d04f4aa4df2cd038445b69",
      "placeholder": "​",
      "style": "IPY_MODEL_299a71e32ee046898543296eb57ad54f",
      "value": "100%"
     }
    },
    "d7031b8b2eaa42b8b030d1a0de734a86": {
     "model_module": "@jupyter-widgets/controls",
     "model_name": "FloatProgressModel",
     "model_module_version": "1.5.0",
     "state": {
      "_dom_classes": [],
      "_model_module": "@jupyter-widgets/controls",
      "_model_module_version": "1.5.0",
      "_model_name": "FloatProgressModel",
      "_view_count": null,
      "_view_module": "@jupyter-widgets/controls",
      "_view_module_version": "1.5.0",
      "_view_name": "ProgressView",
      "bar_style": "success",
      "description": "",
      "description_tooltip": null,
      "layout": "IPY_MODEL_74f58c0e5a454964a0297f5909989319",
      "max": 531460341,
      "min": 0,
      "orientation": "horizontal",
      "style": "IPY_MODEL_a0e86adf2f934d8690e5d19925186949",
      "value": 531460341
     }
    },
    "eae084a00fae4a93ad316fd9d32d4838": {
     "model_module": "@jupyter-widgets/controls",
     "model_name": "HTMLModel",
     "model_module_version": "1.5.0",
     "state": {
      "_dom_classes": [],
      "_model_module": "@jupyter-widgets/controls",
      "_model_module_version": "1.5.0",
      "_model_name": "HTMLModel",
      "_view_count": null,
      "_view_module": "@jupyter-widgets/controls",
      "_view_module_version": "1.5.0",
      "_view_name": "HTMLView",
      "description": "",
      "description_tooltip": null,
      "layout": "IPY_MODEL_2bfcfa6584364783916bf524c1318dc6",
      "placeholder": "​",
      "style": "IPY_MODEL_ecc5b09ffd2a42938461a77a7dedc5cb",
      "value": " 507M/507M [00:07&lt;00:00, 49.1MB/s]"
     }
    },
    "e5beb60211dd454e91f38716a8ece77e": {
     "model_module": "@jupyter-widgets/base",
     "model_name": "LayoutModel",
     "model_module_version": "1.2.0",
     "state": {
      "_model_module": "@jupyter-widgets/base",
      "_model_module_version": "1.2.0",
      "_model_name": "LayoutModel",
      "_view_count": null,
      "_view_module": "@jupyter-widgets/base",
      "_view_module_version": "1.2.0",
      "_view_name": "LayoutView",
      "align_content": null,
      "align_items": null,
      "align_self": null,
      "border": null,
      "bottom": null,
      "display": null,
      "flex": null,
      "flex_flow": null,
      "grid_area": null,
      "grid_auto_columns": null,
      "grid_auto_flow": null,
      "grid_auto_rows": null,
      "grid_column": null,
      "grid_gap": null,
      "grid_row": null,
      "grid_template_areas": null,
      "grid_template_columns": null,
      "grid_template_rows": null,
      "height": null,
      "justify_content": null,
      "justify_items": null,
      "left": null,
      "margin": null,
      "max_height": null,
      "max_width": null,
      "min_height": null,
      "min_width": null,
      "object_fit": null,
      "object_position": null,
      "order": null,
      "overflow": null,
      "overflow_x": null,
      "overflow_y": null,
      "padding": null,
      "right": null,
      "top": null,
      "visibility": null,
      "width": null
     }
    },
    "f41d3b2e87d04f4aa4df2cd038445b69": {
     "model_module": "@jupyter-widgets/base",
     "model_name": "LayoutModel",
     "model_module_version": "1.2.0",
     "state": {
      "_model_module": "@jupyter-widgets/base",
      "_model_module_version": "1.2.0",
      "_model_name": "LayoutModel",
      "_view_count": null,
      "_view_module": "@jupyter-widgets/base",
      "_view_module_version": "1.2.0",
      "_view_name": "LayoutView",
      "align_content": null,
      "align_items": null,
      "align_self": null,
      "border": null,
      "bottom": null,
      "display": null,
      "flex": null,
      "flex_flow": null,
      "grid_area": null,
      "grid_auto_columns": null,
      "grid_auto_flow": null,
      "grid_auto_rows": null,
      "grid_column": null,
      "grid_gap": null,
      "grid_row": null,
      "grid_template_areas": null,
      "grid_template_columns": null,
      "grid_template_rows": null,
      "height": null,
      "justify_content": null,
      "justify_items": null,
      "left": null,
      "margin": null,
      "max_height": null,
      "max_width": null,
      "min_height": null,
      "min_width": null,
      "object_fit": null,
      "object_position": null,
      "order": null,
      "overflow": null,
      "overflow_x": null,
      "overflow_y": null,
      "padding": null,
      "right": null,
      "top": null,
      "visibility": null,
      "width": null
     }
    },
    "299a71e32ee046898543296eb57ad54f": {
     "model_module": "@jupyter-widgets/controls",
     "model_name": "DescriptionStyleModel",
     "model_module_version": "1.5.0",
     "state": {
      "_model_module": "@jupyter-widgets/controls",
      "_model_module_version": "1.5.0",
      "_model_name": "DescriptionStyleModel",
      "_view_count": null,
      "_view_module": "@jupyter-widgets/base",
      "_view_module_version": "1.2.0",
      "_view_name": "StyleView",
      "description_width": ""
     }
    },
    "74f58c0e5a454964a0297f5909989319": {
     "model_module": "@jupyter-widgets/base",
     "model_name": "LayoutModel",
     "model_module_version": "1.2.0",
     "state": {
      "_model_module": "@jupyter-widgets/base",
      "_model_module_version": "1.2.0",
      "_model_name": "LayoutModel",
      "_view_count": null,
      "_view_module": "@jupyter-widgets/base",
      "_view_module_version": "1.2.0",
      "_view_name": "LayoutView",
      "align_content": null,
      "align_items": null,
      "align_self": null,
      "border": null,
      "bottom": null,
      "display": null,
      "flex": null,
      "flex_flow": null,
      "grid_area": null,
      "grid_auto_columns": null,
      "grid_auto_flow": null,
      "grid_auto_rows": null,
      "grid_column": null,
      "grid_gap": null,
      "grid_row": null,
      "grid_template_areas": null,
      "grid_template_columns": null,
      "grid_template_rows": null,
      "height": null,
      "justify_content": null,
      "justify_items": null,
      "left": null,
      "margin": null,
      "max_height": null,
      "max_width": null,
      "min_height": null,
      "min_width": null,
      "object_fit": null,
      "object_position": null,
      "order": null,
      "overflow": null,
      "overflow_x": null,
      "overflow_y": null,
      "padding": null,
      "right": null,
      "top": null,
      "visibility": null,
      "width": null
     }
    },
    "a0e86adf2f934d8690e5d19925186949": {
     "model_module": "@jupyter-widgets/controls",
     "model_name": "ProgressStyleModel",
     "model_module_version": "1.5.0",
     "state": {
      "_model_module": "@jupyter-widgets/controls",
      "_model_module_version": "1.5.0",
      "_model_name": "ProgressStyleModel",
      "_view_count": null,
      "_view_module": "@jupyter-widgets/base",
      "_view_module_version": "1.2.0",
      "_view_name": "StyleView",
      "bar_color": null,
      "description_width": ""
     }
    },
    "2bfcfa6584364783916bf524c1318dc6": {
     "model_module": "@jupyter-widgets/base",
     "model_name": "LayoutModel",
     "model_module_version": "1.2.0",
     "state": {
      "_model_module": "@jupyter-widgets/base",
      "_model_module_version": "1.2.0",
      "_model_name": "LayoutModel",
      "_view_count": null,
      "_view_module": "@jupyter-widgets/base",
      "_view_module_version": "1.2.0",
      "_view_name": "LayoutView",
      "align_content": null,
      "align_items": null,
      "align_self": null,
      "border": null,
      "bottom": null,
      "display": null,
      "flex": null,
      "flex_flow": null,
      "grid_area": null,
      "grid_auto_columns": null,
      "grid_auto_flow": null,
      "grid_auto_rows": null,
      "grid_column": null,
      "grid_gap": null,
      "grid_row": null,
      "grid_template_areas": null,
      "grid_template_columns": null,
      "grid_template_rows": null,
      "height": null,
      "justify_content": null,
      "justify_items": null,
      "left": null,
      "margin": null,
      "max_height": null,
      "max_width": null,
      "min_height": null,
      "min_width": null,
      "object_fit": null,
      "object_position": null,
      "order": null,
      "overflow": null,
      "overflow_x": null,
      "overflow_y": null,
      "padding": null,
      "right": null,
      "top": null,
      "visibility": null,
      "width": null
     }
    },
    "ecc5b09ffd2a42938461a77a7dedc5cb": {
     "model_module": "@jupyter-widgets/controls",
     "model_name": "DescriptionStyleModel",
     "model_module_version": "1.5.0",
     "state": {
      "_model_module": "@jupyter-widgets/controls",
      "_model_module_version": "1.5.0",
      "_model_name": "DescriptionStyleModel",
      "_view_count": null,
      "_view_module": "@jupyter-widgets/base",
      "_view_module_version": "1.2.0",
      "_view_name": "StyleView",
      "description_width": ""
     }
    }
   }
  }
 },
 "cells": [
  {
   "cell_type": "markdown",
   "source": [
    "# Transfer Learning\n",
    "\n",
    "Here we will try to hit two birds with one stone\n",
    "  - Prepare a tutorial on transfer learning.\n",
    "  - Verify the goodness of `VGG` models\n",
    "\n",
    "To those of you not aware, pretrained VGGs in `eqxvision` perform poorly in comparison to `torchvision` counterparts. The main reason is due to differences in implementation of Equinox's `adaptive average pooling`\n",
    "\n",
    "The flow of this tutorial will be as:\n",
    "\n",
    "  - Preparing train/val datasets\n",
    "  - Preparing model\n",
    "  - Setting up forward and loss computation methods\n",
    "  - Initialising the optimizer\n",
    "  - Model Training\n",
    "  - Verifying the integrity of weights\n",
    "\n",
    "  ---"
   ],
   "metadata": {
    "id": "Y9uEFbb8X3I9",
    "pycharm": {
     "name": "#%% md\n"
    }
   }
  },
  {
   "cell_type": "markdown",
   "source": [
    "### Installing Dependencies"
   ],
   "metadata": {
    "id": "Pljy9RHFaB-A",
    "pycharm": {
     "name": "#%% md\n"
    }
   }
  },
  {
   "cell_type": "code",
   "execution_count": null,
   "metadata": {
    "colab": {
     "base_uri": "https://localhost:8080/"
    },
    "id": "MwKhbfH6BEOC",
    "outputId": "a650ef5a-3f09-4db5-d004-06450feb2b0c",
    "pycharm": {
     "name": "#%%\n"
    }
   },
   "outputs": [
    {
     "output_type": "stream",
     "name": "stdout",
     "text": [
      "\u001b[K     |████████████████████████████████| 145 kB 13.4 MB/s \n",
      "\u001b[K     |████████████████████████████████| 66 kB 5.1 MB/s \n",
      "\u001b[K     |████████████████████████████████| 76 kB 6.0 MB/s \n",
      "\u001b[?25h"
     ]
    }
   ],
   "source": [
    "!pip install eqxvision optax jaxlib --quiet"
   ]
  },
  {
   "cell_type": "markdown",
   "source": [
    "### Basic Imports"
   ],
   "metadata": {
    "id": "eJPizb7uYr0F",
    "pycharm": {
     "name": "#%% md\n"
    }
   }
  },
  {
   "cell_type": "code",
   "source": [
    "import functools as ft\n",
    "\n",
    "import equinox as eqx\n",
    "import jax\n",
    "import jax.numpy as jnp\n",
    "import jax.random as jrandom\n",
    "import optax\n",
    "from torch.utils.data import DataLoader\n",
    "from torchvision import datasets, transforms\n",
    "\n",
    "import eqxvision as eqv\n",
    "from eqxvision.utils import CLASSIFICATION_URLS"
   ],
   "metadata": {
    "id": "kN2J0lZZBIZL",
    "pycharm": {
     "name": "#%%\n"
    }
   },
   "execution_count": null,
   "outputs": []
  },
  {
   "cell_type": "markdown",
   "source": [
    "### Hyper-parameters"
   ],
   "metadata": {
    "id": "23_yGcCRYuvG",
    "pycharm": {
     "name": "#%% md\n"
    }
   }
  },
  {
   "cell_type": "code",
   "source": [
    "BATCH_SIZE = 128\n",
    "LR = 0.001\n",
    "EPOCHS = 5"
   ],
   "metadata": {
    "id": "FnSZEhJpCqRH",
    "pycharm": {
     "name": "#%%\n"
    }
   },
   "execution_count": null,
   "outputs": []
  },
  {
   "cell_type": "markdown",
   "source": [
    "### Dataset & Dataloaders"
   ],
   "metadata": {
    "id": "Okx6cgJiYycY",
    "pycharm": {
     "name": "#%% md\n"
    }
   }
  },
  {
   "cell_type": "code",
   "source": [
    "train_transform = transforms.Compose(\n",
    "    [\n",
    "        transforms.RandomResizedCrop(224),\n",
    "        transforms.RandomHorizontalFlip(),\n",
    "        transforms.ToTensor(),\n",
    "        transforms.Normalize((0.485, 0.456, 0.406), (0.229, 0.224, 0.225)),\n",
    "    ]\n",
    ")\n",
    "val_transform = transforms.Compose(\n",
    "    [\n",
    "        transforms.Resize(224),\n",
    "        transforms.ToTensor(),\n",
    "        transforms.Normalize((0.485, 0.456, 0.406), (0.229, 0.224, 0.225)),\n",
    "    ]\n",
    ")\n",
    "train_dataset = datasets.STL10(\n",
    "    root=\"/tmp\", split=\"train\", transform=train_transform, download=True\n",
    ")\n",
    "val_dataset = datasets.STL10(\n",
    "    root=\"/tmp\", split=\"test\", transform=val_transform, download=True\n",
    ")\n",
    "\n",
    "train_loader = DataLoader(dataset=train_dataset, num_workers=2, batch_size=BATCH_SIZE)\n",
    "val_loader = DataLoader(dataset=val_dataset, num_workers=2, batch_size=BATCH_SIZE)"
   ],
   "metadata": {
    "colab": {
     "base_uri": "https://localhost:8080/",
     "height": 101,
     "referenced_widgets": [
      "0ae136421dc04745895c2b95bfef2ce9",
      "760ef56f8ec240ac925c0a040ef841ac",
      "b3d8b603ff9c428ca0bdc2e8e6a34beb",
      "e76333a07746477194966cbf52c2db17",
      "17129201f8774342917e179770ca7fdf",
      "56f23baa2bb94c9fb2486a21655a139d",
      "6c9f74560ada46ec8a4f0591ccb691cc",
      "1b080f5bc3af418ba5a22347cdc1bc21",
      "2ba493433dad49d09de9623ec381de5b",
      "c157b743510f4cbb97c0fb6f4bba71cf",
      "500f1c0911e946e0a062cfe7c0a4a2f9"
     ]
    },
    "id": "f6CZu9qZBt5s",
    "outputId": "0c60a725-1232-4286-bb81-397880c238f8",
    "pycharm": {
     "name": "#%%\n"
    }
   },
   "execution_count": null,
   "outputs": [
    {
     "output_type": "stream",
     "name": "stdout",
     "text": [
      "Downloading http://ai.stanford.edu/~acoates/stl10/stl10_binary.tar.gz to /tmp/stl10_binary.tar.gz\n"
     ]
    },
    {
     "output_type": "display_data",
     "data": {
      "text/plain": [
       "  0%|          | 0/2640397119 [00:00<?, ?it/s]"
      ],
      "application/vnd.jupyter.widget-view+json": {
       "version_major": 2,
       "version_minor": 0,
       "model_id": "0ae136421dc04745895c2b95bfef2ce9"
      }
     },
     "metadata": {}
    },
    {
     "output_type": "stream",
     "name": "stdout",
     "text": [
      "Extracting /tmp/stl10_binary.tar.gz to /tmp\n",
      "Files already downloaded and verified\n"
     ]
    }
   ]
  },
  {
   "cell_type": "markdown",
   "source": [
    "### Model Prep.\n",
    "\n",
    "We need to perform two steps after initialising the model.\n",
    "\n",
    "1. Replace the final classification layer to suit the `STL-10` dataset.\n",
    "2. Freeze the parameters for all layers except the classification layer."
   ],
   "metadata": {
    "id": "_Fzbir_ZZEcc",
    "pycharm": {
     "name": "#%% md\n"
    }
   }
  },
  {
   "cell_type": "code",
   "source": [
    "model = eqv.models.vgg11(torch_weights=CLASSIFICATION_URLS[\"vgg11\"])\n",
    "\n",
    "# Replacing the last layer for STL-10\n",
    "model = eqx.tree_at(\n",
    "    lambda m: m.classifier,\n",
    "    model,\n",
    "    (eqx.nn.Linear(512 * 7 * 7, 10, key=jrandom.PRNGKey(0))),\n",
    ")\n",
    "\n",
    "# Freezing the model except for the last layer\n",
    "filter_spec = jax.tree_util.tree_map(lambda _: False, model)\n",
    "filter_spec = eqx.tree_at(\n",
    "    lambda tree: (tree.classifier.weight, tree.classifier.bias),\n",
    "    filter_spec,\n",
    "    replace=(True, True),\n",
    ")"
   ],
   "metadata": {
    "id": "lIKiulTvFPUH",
    "colab": {
     "base_uri": "https://localhost:8080/",
     "height": 49,
     "referenced_widgets": [
      "38c0beb18d2d4b3487a6b8606bc650e5",
      "2f7d6e6b988343f994ce1bfb592bc61d",
      "d7031b8b2eaa42b8b030d1a0de734a86",
      "eae084a00fae4a93ad316fd9d32d4838",
      "e5beb60211dd454e91f38716a8ece77e",
      "f41d3b2e87d04f4aa4df2cd038445b69",
      "299a71e32ee046898543296eb57ad54f",
      "74f58c0e5a454964a0297f5909989319",
      "a0e86adf2f934d8690e5d19925186949",
      "2bfcfa6584364783916bf524c1318dc6",
      "ecc5b09ffd2a42938461a77a7dedc5cb"
     ]
    },
    "outputId": "9b446c08-89ad-4506-8341-d1ac639501c8",
    "pycharm": {
     "name": "#%%\n"
    }
   },
   "execution_count": null,
   "outputs": [
    {
     "output_type": "display_data",
     "data": {
      "text/plain": [
       "  0%|          | 0.00/507M [00:00<?, ?B/s]"
      ],
      "application/vnd.jupyter.widget-view+json": {
       "version_major": 2,
       "version_minor": 0,
       "model_id": "38c0beb18d2d4b3487a6b8606bc650e5"
      }
     },
     "metadata": {}
    }
   ]
  },
  {
   "cell_type": "markdown",
   "source": [
    "### Utility Methods\n",
    "\n",
    "The `filter_spec` decides the params w.r.t to which the gradient is computed.\n",
    "Here, we will be computing gradient w.r.t to only the `classifier` module.\n",
    "\n",
    "Check [here](https://docs.kidger.site/equinox/examples/frozen_layer/) for more details."
   ],
   "metadata": {
    "id": "AzVxnqEnY2LW",
    "pycharm": {
     "name": "#%% md\n"
    }
   }
  },
  {
   "cell_type": "code",
   "source": [
    "@ft.partial(eqx.filter_value_and_grad, arg=filter_spec)\n",
    "def compute_loss(model, x, y, keys):\n",
    "    logits = jax.vmap(model, axis_name=(\"batch\"))(x, key=keys)\n",
    "    one_hot_actual = jax.nn.one_hot(y, num_classes=10)\n",
    "    return optax.softmax_cross_entropy(logits, one_hot_actual).mean()\n",
    "\n",
    "\n",
    "@eqx.filter_jit\n",
    "def make_step(model, x, y, keys, optimizer, opt_state):\n",
    "    loss, grads = compute_loss(model, x, y, keys)\n",
    "    updates, opt_state = optimizer.update(grads, opt_state)\n",
    "    model = eqx.apply_updates(model, updates)\n",
    "    return loss, model, opt_state\n",
    "\n",
    "\n",
    "def accuracy(model, loader):\n",
    "    correct = 0.0\n",
    "    total = 0.0\n",
    "    for images, labels in loader:\n",
    "        keys = jrandom.split(jrandom.PRNGKey(0), images.shape[0])\n",
    "        output = jax.vmap(model, axis_name=\"batch\")(\n",
    "            jnp.asarray(images.numpy()), key=keys\n",
    "        )\n",
    "        pred = jnp.argmax(output, axis=1)\n",
    "\n",
    "        correct += jnp.sum(pred == labels.numpy())\n",
    "        total += images.shape[0]\n",
    "    return correct / total"
   ],
   "metadata": {
    "id": "MlDBpQUIC-1c",
    "pycharm": {
     "name": "#%%\n"
    }
   },
   "execution_count": null,
   "outputs": []
  },
  {
   "cell_type": "markdown",
   "source": [
    "### Optimizer & Scheduler\n",
    "\n",
    "The important bit to remember is wrapping the model in `eqx.filter` before passing it on to the optimizer. This step will `fail` if you forget the filter."
   ],
   "metadata": {
    "id": "QMJAPoUbZWOW",
    "pycharm": {
     "name": "#%% md\n"
    }
   }
  },
  {
   "cell_type": "code",
   "source": [
    "total_steps = EPOCHS * (len(train_loader.dataset) // BATCH_SIZE) + EPOCHS\n",
    "cosine_decay_scheduler = optax.cosine_decay_schedule(\n",
    "    LR, decay_steps=total_steps, alpha=0.95\n",
    ")\n",
    "optimizer = optax.adam(learning_rate=cosine_decay_scheduler)\n",
    "opt_state = optimizer.init(\n",
    "    eqx.filter(model, eqx.is_array)\n",
    ")  # Wrap in a fileter to avoid passing non-JAX types"
   ],
   "metadata": {
    "id": "nTuOyb7hDgVS",
    "pycharm": {
     "name": "#%%\n"
    }
   },
   "execution_count": null,
   "outputs": []
  },
  {
   "cell_type": "markdown",
   "source": [
    "### The Training"
   ],
   "metadata": {
    "id": "d21ktOAAZzv3",
    "pycharm": {
     "name": "#%% md\n"
    }
   }
  },
  {
   "cell_type": "code",
   "source": [
    "loss = 0\n",
    "\n",
    "for epoch in range(EPOCHS):\n",
    "    for step, (x, y) in enumerate(train_loader):\n",
    "        key = jrandom.PRNGKey(epoch + x.shape[0] * step)\n",
    "        keys = jrandom.split(key, x.shape[0])\n",
    "        loss_value, model, opt_state = make_step(\n",
    "            model, jnp.asarray(x), jnp.asarray(y), keys, optimizer, opt_state\n",
    "        )\n",
    "        loss = 0.9 * loss + 0.1 * loss_value.item()\n",
    "\n",
    "    model = eqx.tree_inference(model, True)  # Analogous to model.eval()\n",
    "    train_acc = accuracy(model, train_loader)\n",
    "    test_acc = accuracy(model, val_loader)\n",
    "    model = eqx.tree_inference(model, False)  # Back to training mode\n",
    "\n",
    "    print(\n",
    "        f\"Epoch={epoch}, loss={loss:.4f}, tr.acc={train_acc.item():.4f}, te.acc={test_acc.item():.4f}\"\n",
    "    )"
   ],
   "metadata": {
    "id": "J4w0Ls9tFQ1E",
    "colab": {
     "base_uri": "https://localhost:8080/"
    },
    "outputId": "47bf3555-2b13-42eb-bad7-5ae6ab776135",
    "pycharm": {
     "name": "#%%\n"
    }
   },
   "execution_count": null,
   "outputs": [
    {
     "output_type": "stream",
     "name": "stdout",
     "text": [
      "Epoch=0, loss=0.6885, tr.acc=0.8134, te.acc=0.9073\n",
      "Epoch=1, loss=0.5187, tr.acc=0.8174, te.acc=0.9018\n",
      "Epoch=2, loss=0.4801, tr.acc=0.8450, te.acc=0.9125\n",
      "Epoch=3, loss=0.4588, tr.acc=0.8560, te.acc=0.9176\n",
      "Epoch=4, loss=0.4834, tr.acc=0.8476, te.acc=0.9059\n"
     ]
    }
   ]
  },
  {
   "cell_type": "markdown",
   "source": [
    "### Verify Weights\n",
    "\n",
    "The last bit is to verify that weights of `model.features` is unchanged and only `model.classifier` is updated."
   ],
   "metadata": {
    "id": "YjSyCivdaqmE",
    "pycharm": {
     "name": "#%% md\n"
    }
   }
  },
  {
   "cell_type": "code",
   "source": [
    "base_model = eqx.tree_inference(\n",
    "    eqv.models.vgg11(torch_weights=CLASSIFICATION_URLS[\"vgg11\"]), True\n",
    ")\n",
    "assert eqx.tree_equal(base_model.features, model.features)"
   ],
   "metadata": {
    "id": "E93LbpK1HAjq",
    "pycharm": {
     "name": "#%%\n"
    }
   },
   "execution_count": null,
   "outputs": []
  },
  {
   "cell_type": "markdown",
   "source": [
    "*That's all Folks*"
   ],
   "metadata": {
    "id": "4fJqBgD4bPKN",
    "pycharm": {
     "name": "#%% md\n"
    }
   }
  }
 ]
}