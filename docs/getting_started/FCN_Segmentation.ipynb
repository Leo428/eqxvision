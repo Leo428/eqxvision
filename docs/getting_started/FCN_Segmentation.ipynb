{
 "nbformat": 4,
 "nbformat_minor": 0,
 "metadata": {
  "colab": {
   "provenance": [],
   "collapsed_sections": [],
   "authorship_tag": "ABX9TyORErohdz9P8d8OvKtI/99o"
  },
  "kernelspec": {
   "name": "python3",
   "display_name": "Python 3"
  },
  "language_info": {
   "name": "python"
  },
  "widgets": {
   "application/vnd.jupyter.widget-state+json": {
    "a4e6270ac4654302b69feb6629570946": {
     "model_module": "@jupyter-widgets/controls",
     "model_name": "HBoxModel",
     "model_module_version": "1.5.0",
     "state": {
      "_dom_classes": [],
      "_model_module": "@jupyter-widgets/controls",
      "_model_module_version": "1.5.0",
      "_model_name": "HBoxModel",
      "_view_count": null,
      "_view_module": "@jupyter-widgets/controls",
      "_view_module_version": "1.5.0",
      "_view_name": "HBoxView",
      "box_style": "",
      "children": [
       "IPY_MODEL_372f21bdfea84072b29c7dc33876f382",
       "IPY_MODEL_6948248f446041199f66b4cd9b03ce05",
       "IPY_MODEL_4e868ce6d03044029c2868aaab3ef78b"
      ],
      "layout": "IPY_MODEL_a442fcc2f7464e3f867a19c74600b5e9"
     }
    },
    "372f21bdfea84072b29c7dc33876f382": {
     "model_module": "@jupyter-widgets/controls",
     "model_name": "HTMLModel",
     "model_module_version": "1.5.0",
     "state": {
      "_dom_classes": [],
      "_model_module": "@jupyter-widgets/controls",
      "_model_module_version": "1.5.0",
      "_model_name": "HTMLModel",
      "_view_count": null,
      "_view_module": "@jupyter-widgets/controls",
      "_view_module_version": "1.5.0",
      "_view_name": "HTMLView",
      "description": "",
      "description_tooltip": null,
      "layout": "IPY_MODEL_5c798ebb40954355832c18a9850cf9ea",
      "placeholder": "​",
      "style": "IPY_MODEL_4320b04350764950b1c72c62b3c247b9",
      "value": "100%"
     }
    },
    "6948248f446041199f66b4cd9b03ce05": {
     "model_module": "@jupyter-widgets/controls",
     "model_name": "FloatProgressModel",
     "model_module_version": "1.5.0",
     "state": {
      "_dom_classes": [],
      "_model_module": "@jupyter-widgets/controls",
      "_model_module_version": "1.5.0",
      "_model_name": "FloatProgressModel",
      "_view_count": null,
      "_view_module": "@jupyter-widgets/controls",
      "_view_module_version": "1.5.0",
      "_view_name": "ProgressView",
      "bar_style": "success",
      "description": "",
      "description_tooltip": null,
      "layout": "IPY_MODEL_072ed025655648069c5d4b230806b09e",
      "max": 141567418,
      "min": 0,
      "orientation": "horizontal",
      "style": "IPY_MODEL_72e2308418d945439fa0a70cab632995",
      "value": 141567418
     }
    },
    "4e868ce6d03044029c2868aaab3ef78b": {
     "model_module": "@jupyter-widgets/controls",
     "model_name": "HTMLModel",
     "model_module_version": "1.5.0",
     "state": {
      "_dom_classes": [],
      "_model_module": "@jupyter-widgets/controls",
      "_model_module_version": "1.5.0",
      "_model_name": "HTMLModel",
      "_view_count": null,
      "_view_module": "@jupyter-widgets/controls",
      "_view_module_version": "1.5.0",
      "_view_name": "HTMLView",
      "description": "",
      "description_tooltip": null,
      "layout": "IPY_MODEL_2baba13ab50244ebad7822974e91ca38",
      "placeholder": "​",
      "style": "IPY_MODEL_f37ca8b4ef434e148c7d9b23dbe8759c",
      "value": " 135M/135M [00:02&lt;00:00, 70.3MB/s]"
     }
    },
    "a442fcc2f7464e3f867a19c74600b5e9": {
     "model_module": "@jupyter-widgets/base",
     "model_name": "LayoutModel",
     "model_module_version": "1.2.0",
     "state": {
      "_model_module": "@jupyter-widgets/base",
      "_model_module_version": "1.2.0",
      "_model_name": "LayoutModel",
      "_view_count": null,
      "_view_module": "@jupyter-widgets/base",
      "_view_module_version": "1.2.0",
      "_view_name": "LayoutView",
      "align_content": null,
      "align_items": null,
      "align_self": null,
      "border": null,
      "bottom": null,
      "display": null,
      "flex": null,
      "flex_flow": null,
      "grid_area": null,
      "grid_auto_columns": null,
      "grid_auto_flow": null,
      "grid_auto_rows": null,
      "grid_column": null,
      "grid_gap": null,
      "grid_row": null,
      "grid_template_areas": null,
      "grid_template_columns": null,
      "grid_template_rows": null,
      "height": null,
      "justify_content": null,
      "justify_items": null,
      "left": null,
      "margin": null,
      "max_height": null,
      "max_width": null,
      "min_height": null,
      "min_width": null,
      "object_fit": null,
      "object_position": null,
      "order": null,
      "overflow": null,
      "overflow_x": null,
      "overflow_y": null,
      "padding": null,
      "right": null,
      "top": null,
      "visibility": null,
      "width": null
     }
    },
    "5c798ebb40954355832c18a9850cf9ea": {
     "model_module": "@jupyter-widgets/base",
     "model_name": "LayoutModel",
     "model_module_version": "1.2.0",
     "state": {
      "_model_module": "@jupyter-widgets/base",
      "_model_module_version": "1.2.0",
      "_model_name": "LayoutModel",
      "_view_count": null,
      "_view_module": "@jupyter-widgets/base",
      "_view_module_version": "1.2.0",
      "_view_name": "LayoutView",
      "align_content": null,
      "align_items": null,
      "align_self": null,
      "border": null,
      "bottom": null,
      "display": null,
      "flex": null,
      "flex_flow": null,
      "grid_area": null,
      "grid_auto_columns": null,
      "grid_auto_flow": null,
      "grid_auto_rows": null,
      "grid_column": null,
      "grid_gap": null,
      "grid_row": null,
      "grid_template_areas": null,
      "grid_template_columns": null,
      "grid_template_rows": null,
      "height": null,
      "justify_content": null,
      "justify_items": null,
      "left": null,
      "margin": null,
      "max_height": null,
      "max_width": null,
      "min_height": null,
      "min_width": null,
      "object_fit": null,
      "object_position": null,
      "order": null,
      "overflow": null,
      "overflow_x": null,
      "overflow_y": null,
      "padding": null,
      "right": null,
      "top": null,
      "visibility": null,
      "width": null
     }
    },
    "4320b04350764950b1c72c62b3c247b9": {
     "model_module": "@jupyter-widgets/controls",
     "model_name": "DescriptionStyleModel",
     "model_module_version": "1.5.0",
     "state": {
      "_model_module": "@jupyter-widgets/controls",
      "_model_module_version": "1.5.0",
      "_model_name": "DescriptionStyleModel",
      "_view_count": null,
      "_view_module": "@jupyter-widgets/base",
      "_view_module_version": "1.2.0",
      "_view_name": "StyleView",
      "description_width": ""
     }
    },
    "072ed025655648069c5d4b230806b09e": {
     "model_module": "@jupyter-widgets/base",
     "model_name": "LayoutModel",
     "model_module_version": "1.2.0",
     "state": {
      "_model_module": "@jupyter-widgets/base",
      "_model_module_version": "1.2.0",
      "_model_name": "LayoutModel",
      "_view_count": null,
      "_view_module": "@jupyter-widgets/base",
      "_view_module_version": "1.2.0",
      "_view_name": "LayoutView",
      "align_content": null,
      "align_items": null,
      "align_self": null,
      "border": null,
      "bottom": null,
      "display": null,
      "flex": null,
      "flex_flow": null,
      "grid_area": null,
      "grid_auto_columns": null,
      "grid_auto_flow": null,
      "grid_auto_rows": null,
      "grid_column": null,
      "grid_gap": null,
      "grid_row": null,
      "grid_template_areas": null,
      "grid_template_columns": null,
      "grid_template_rows": null,
      "height": null,
      "justify_content": null,
      "justify_items": null,
      "left": null,
      "margin": null,
      "max_height": null,
      "max_width": null,
      "min_height": null,
      "min_width": null,
      "object_fit": null,
      "object_position": null,
      "order": null,
      "overflow": null,
      "overflow_x": null,
      "overflow_y": null,
      "padding": null,
      "right": null,
      "top": null,
      "visibility": null,
      "width": null
     }
    },
    "72e2308418d945439fa0a70cab632995": {
     "model_module": "@jupyter-widgets/controls",
     "model_name": "ProgressStyleModel",
     "model_module_version": "1.5.0",
     "state": {
      "_model_module": "@jupyter-widgets/controls",
      "_model_module_version": "1.5.0",
      "_model_name": "ProgressStyleModel",
      "_view_count": null,
      "_view_module": "@jupyter-widgets/base",
      "_view_module_version": "1.2.0",
      "_view_name": "StyleView",
      "bar_color": null,
      "description_width": ""
     }
    },
    "2baba13ab50244ebad7822974e91ca38": {
     "model_module": "@jupyter-widgets/base",
     "model_name": "LayoutModel",
     "model_module_version": "1.2.0",
     "state": {
      "_model_module": "@jupyter-widgets/base",
      "_model_module_version": "1.2.0",
      "_model_name": "LayoutModel",
      "_view_count": null,
      "_view_module": "@jupyter-widgets/base",
      "_view_module_version": "1.2.0",
      "_view_name": "LayoutView",
      "align_content": null,
      "align_items": null,
      "align_self": null,
      "border": null,
      "bottom": null,
      "display": null,
      "flex": null,
      "flex_flow": null,
      "grid_area": null,
      "grid_auto_columns": null,
      "grid_auto_flow": null,
      "grid_auto_rows": null,
      "grid_column": null,
      "grid_gap": null,
      "grid_row": null,
      "grid_template_areas": null,
      "grid_template_columns": null,
      "grid_template_rows": null,
      "height": null,
      "justify_content": null,
      "justify_items": null,
      "left": null,
      "margin": null,
      "max_height": null,
      "max_width": null,
      "min_height": null,
      "min_width": null,
      "object_fit": null,
      "object_position": null,
      "order": null,
      "overflow": null,
      "overflow_x": null,
      "overflow_y": null,
      "padding": null,
      "right": null,
      "top": null,
      "visibility": null,
      "width": null
     }
    },
    "f37ca8b4ef434e148c7d9b23dbe8759c": {
     "model_module": "@jupyter-widgets/controls",
     "model_name": "DescriptionStyleModel",
     "model_module_version": "1.5.0",
     "state": {
      "_model_module": "@jupyter-widgets/controls",
      "_model_module_version": "1.5.0",
      "_model_name": "DescriptionStyleModel",
      "_view_count": null,
      "_view_module": "@jupyter-widgets/base",
      "_view_module_version": "1.2.0",
      "_view_name": "StyleView",
      "description_width": ""
     }
    }
   }
  }
 },
 "cells": [
  {
   "cell_type": "markdown",
   "source": [
    "# Image Segmentation with FCN-ResNet50\n",
    "\n",
    "This is a simple tutorial to illustrate how to compose a FCN network with a choice of `backbone`. We will be performing inference using a pretrained model\n",
    "to check the quality of ported weights. This tutorial is based on `torchvision's` tutorial [here](https://pytorch.org/hub/pytorch_vision_fcn_resnet101/).\n",
    "\n",
    "An important bit to focus on is the initialisation of the model which is different from `torchvision`. \n",
    "\n",
    "---"
   ],
   "metadata": {
    "id": "nn7V26WZjcUO",
    "pycharm": {
     "name": "#%% md\n"
    }
   }
  },
  {
   "cell_type": "markdown",
   "source": [
    "### Installing Dependencies"
   ],
   "metadata": {
    "id": "_dVzrp9QklyC",
    "pycharm": {
     "name": "#%% md\n"
    }
   }
  },
  {
   "cell_type": "code",
   "execution_count": 1,
   "metadata": {
    "colab": {
     "base_uri": "https://localhost:8080/"
    },
    "id": "scm12tWqfbeN",
    "outputId": "fe62a222-5dee-457d-93d7-856a34369dc0",
    "pycharm": {
     "name": "#%%\n"
    }
   },
   "outputs": [],
   "source": [
    "!pip install eqxvision jaxlib --quiet"
   ]
  },
  {
   "cell_type": "markdown",
   "source": [
    "### Required Imports"
   ],
   "metadata": {
    "id": "zZahVOAynYwD",
    "pycharm": {
     "name": "#%% md\n"
    }
   }
  },
  {
   "cell_type": "code",
   "execution_count": null,
   "outputs": [],
   "source": [
    "import urllib\n",
    "\n",
    "import jax\n",
    "import jax.numpy as jnp\n",
    "import jax.random as jrandom\n",
    "import matplotlib.pyplot as plt\n",
    "import numpy as np\n",
    "from PIL import Image\n",
    "\n",
    "import eqxvision as eqv\n",
    "from eqxvision.utils import SEGMENTATION_URLS\n",
    "\n",
    "\n",
    "%matplotlib inline\n",
    "from torchvision import transforms"
   ],
   "metadata": {
    "collapsed": false,
    "pycharm": {
     "name": "#%%\n"
    }
   }
  },
  {
   "cell_type": "markdown",
   "source": [
    "### Data Preparation"
   ],
   "metadata": {
    "collapsed": false,
    "pycharm": {
     "name": "#%% md\n"
    }
   }
  },
  {
   "cell_type": "code",
   "execution_count": null,
   "outputs": [],
   "source": [
    "# Download an example image from the pytorch website\n",
    "url, filename = (\n",
    "    \"https://github.com/pytorch/hub/raw/master/images/deeplab1.png\",\n",
    "    \"deeplab1.png\",\n",
    ")\n",
    "try:\n",
    "    urllib.URLopener().retrieve(url, filename)\n",
    "except Exception:\n",
    "    urllib.request.urlretrieve(url, filename)"
   ],
   "metadata": {
    "collapsed": false,
    "pycharm": {
     "name": "#%%\n"
    }
   }
  },
  {
   "cell_type": "code",
   "execution_count": null,
   "outputs": [],
   "source": [
    "# sample execution (requires torchvision)\n",
    "input_image = Image.open(filename)\n",
    "input_image = input_image.convert(\"RGB\")\n",
    "preprocess = transforms.Compose(\n",
    "    [\n",
    "        transforms.ToTensor(),\n",
    "        transforms.Normalize(mean=[0.485, 0.456, 0.406], std=[0.229, 0.224, 0.225]),\n",
    "    ]\n",
    ")\n",
    "\n",
    "input_tensor = preprocess(input_image)\n",
    "img = jnp.asarray(input_tensor.unsqueeze(0).numpy())"
   ],
   "metadata": {
    "collapsed": false,
    "pycharm": {
     "name": "#%%\n"
    }
   }
  },
  {
   "cell_type": "markdown",
   "source": [
    "# Initialising the Model\n",
    "\n",
    "To recall, FCN composes of a `main` and an `auxiliary` intermediate layer from the `backbone` neural network. The feature maps from these are forwarded to a classification unit for dense prediction.\n",
    "\n",
    "To initialise `FCN`, we need to know\n",
    "1. `backbone`: which is going to act as a feature extractor\n",
    "2. `intermediate_layers`: The layers in the backbone from where we need the activations\n",
    "3. `classifier_in_channels`: This is equivalent to the number of channels in the `main` intermediate layer \n",
    "3. `aux_in_channels`: If using an auxiliary layer for additional loss, set the number of output channels here    \n",
    "\n",
    "Additional parameters are described in the documentation [here](https://eqxvision.readthedocs.io/en/latest/api/models/segmentation/fcn/#eqxvision.models.fcn)"
   ],
   "metadata": {
    "collapsed": false,
    "pycharm": {
     "name": "#%% md\n"
    }
   }
  },
  {
   "cell_type": "code",
   "execution_count": null,
   "outputs": [],
   "source": [
    "model = eqv.models.fcn(\n",
    "    backbone=eqv.models.resnet50(replace_stride_with_dilation=[False, True, True]),\n",
    "    intermediate_layers=lambda x: [x.layer3, x.layer4],\n",
    "    aux_in_channels=1024,\n",
    "    torch_weights=SEGMENTATION_URLS[\"fcn_resnet50\"],\n",
    ")\n",
    "key = jrandom.split(jrandom.PRNGKey(0), 1)"
   ],
   "metadata": {
    "collapsed": false,
    "pycharm": {
     "name": "#%%\n"
    }
   }
  },
  {
   "cell_type": "markdown",
   "source": [
    "### Inference\n",
    "\n",
    "The network returns two outputs corresponding to `auxiliary` and `main` layers. For inference, we are only interested in the `main` output.\n",
    "\n",
    "Since the predictions are in the shape `(num_classes, height, width)` we select the predicted category per pixel location."
   ],
   "metadata": {
    "collapsed": false,
    "pycharm": {
     "name": "#%% md\n"
    }
   }
  },
  {
   "cell_type": "code",
   "execution_count": null,
   "outputs": [],
   "source": [
    "aux_output, output = jax.vmap(model, axis_name=\"batch\")(img, key=key)\n",
    "output_predictions = jnp.argmax(output[0], axis=0)"
   ],
   "metadata": {
    "collapsed": false,
    "pycharm": {
     "name": "#%%\n"
    }
   }
  },
  {
   "cell_type": "markdown",
   "source": [
    "### Visualisation"
   ],
   "metadata": {
    "collapsed": false,
    "pycharm": {
     "name": "#%% md\n"
    }
   }
  },
  {
   "cell_type": "code",
   "execution_count": null,
   "outputs": [],
   "source": [
    "# create a color pallette, selecting a color for each class\n",
    "palette = jnp.array([2**25 - 1, 2**15 - 1, 2**21 - 1])\n",
    "colors = jnp.array([i for i in range(21)])[:, None] * palette\n",
    "colors = np.asarray(colors % 255).astype(\"uint8\")\n",
    "\n",
    "# plot the semantic segmentation predictions of 21 classes in each color\n",
    "r = Image.fromarray(np.asarray(output_predictions).astype(np.uint8)).resize(\n",
    "    input_image.size\n",
    ")\n",
    "r.putpalette(colors)\n",
    "\n",
    "axs = plt.figure(constrained_layout=True, figsize=(10, 18)).subplots(\n",
    "    1, 2, sharex=True, sharey=True\n",
    ")\n",
    "\n",
    "axs[0].set(title=\"original\")\n",
    "axs[1].set(title=\"segmentation\")\n",
    "axs[0].imshow(input_image)\n",
    "axs[1].imshow(r)\n",
    "axs[0].axis(\"off\")\n",
    "axs[1].axis(\"off\")\n",
    "plt.show()"
   ],
   "metadata": {
    "collapsed": false,
    "pycharm": {
     "name": "#%%\n"
    }
   }
  },
  {
   "cell_type": "markdown",
   "source": [
    "*That's all Folks*"
   ],
   "metadata": {
    "id": "4qMOrV1fqgdg",
    "pycharm": {
     "name": "#%% md\n"
    }
   }
  }
 ]
}