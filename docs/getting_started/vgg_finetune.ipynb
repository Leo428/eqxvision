{
  "nbformat": 4,
  "nbformat_minor": 0,
  "metadata": {
    "colab": {
      "name": "vgg_finetune.ipynb",
      "provenance": [],
      "collapsed_sections": [],
      "machine_shape": "hm",
      "authorship_tag": "ABX9TyPL3ALvz8zV7SLiftFdu/TK",
      "include_colab_link": true
    },
    "kernelspec": {
      "name": "python3",
      "display_name": "Python 3"
    },
    "language_info": {
      "name": "python"
    },
    "accelerator": "GPU",
    "gpuClass": "standard"
  },
  "cells": [
    {
      "cell_type": "markdown",
      "metadata": {
        "id": "view-in-github",
        "colab_type": "text"
      },
      "source": [
        "<a href=\"https://colab.research.google.com/github/paganpasta/eqxvision/blob/documentation%2Fgetting_started%2Fself-attention/docs/getting_started/vgg_finetune.ipynb\" target=\"_parent\"><img src=\"https://colab.research.google.com/assets/colab-badge.svg\" alt=\"Open In Colab\"/></a>"
      ]
    },
    {
      "cell_type": "markdown",
      "source": [
        "# Transfer Learning\n",
        "\n",
        "Here we will try to hit two birds with one stone\n",
        "  - Prepare a tutorial on transfer learning.\n",
        "  - Verify the goodness of `VGG` models\n",
        "\n",
        "To those of you not aware, pretrained VGGs in `eqxvision` perform poorly in comparison to `torchvision` counterparts. The main reason is due to differences in implementation of Equinox's `adaptive average pooling` ( which I implemented :sad_face: )\n",
        "\n",
        "The flow of this tutorial will be as:\n",
        "  - Preparing train/val datasets\n",
        "  - Preparing model\n",
        "  - Setting up forward and loss computation methods\n",
        "  - Initialising the optimizer\n",
        "  - Model Training\n",
        "  - Verifying the integrity of weights\n",
        "\n",
        "  ---"
      ],
      "metadata": {
        "id": "Y9uEFbb8X3I9"
      }
    },
    {
      "cell_type": "markdown",
      "source": [
        "### Installing Dependencies"
      ],
      "metadata": {
        "id": "Pljy9RHFaB-A"
      }
    },
    {
      "cell_type": "code",
      "execution_count": 1,
      "metadata": {
        "colab": {
          "base_uri": "https://localhost:8080/"
        },
        "id": "MwKhbfH6BEOC",
        "outputId": "35cf3d2b-4b64-4e12-fcb6-b1a119e4d36f"
      },
      "outputs": [
        {
          "output_type": "stream",
          "name": "stdout",
          "text": [
            "\u001b[K     |████████████████████████████████| 145 kB 24.1 MB/s \n",
            "\u001b[K     |████████████████████████████████| 66 kB 4.8 MB/s \n",
            "\u001b[K     |████████████████████████████████| 76 kB 5.5 MB/s \n",
            "\u001b[?25h"
          ]
        }
      ],
      "source": [
        "!pip install eqxvision optax --quiet"
      ]
    },
    {
      "cell_type": "markdown",
      "source": [
        "### Basic Imports"
      ],
      "metadata": {
        "id": "eJPizb7uYr0F"
      }
    },
    {
      "cell_type": "code",
      "source": [
        "import math\n",
        "import functools as ft\n",
        "import torch\n",
        "\n",
        "import jax\n",
        "import jax.lax as lax\n",
        "import jax.numpy as jnp\n",
        "import jax.random as jrandom\n",
        "import optax\n",
        "\n",
        "import equinox as eqx\n",
        "import eqxvision as eqv\n",
        "\n",
        "from torchvision import datasets, transforms\n",
        "from torch.utils.data import DataLoader"
      ],
      "metadata": {
        "id": "kN2J0lZZBIZL"
      },
      "execution_count": 36,
      "outputs": []
    },
    {
      "cell_type": "markdown",
      "source": [
        "### Hyper-parameters"
      ],
      "metadata": {
        "id": "23_yGcCRYuvG"
      }
    },
    {
      "cell_type": "code",
      "source": [
        "BATCH_SIZE = 128\n",
        "LR = 0.001\n",
        "EPOCHS = 5"
      ],
      "metadata": {
        "id": "FnSZEhJpCqRH"
      },
      "execution_count": 44,
      "outputs": []
    },
    {
      "cell_type": "markdown",
      "source": [
        "### Dataset & Dataloaders"
      ],
      "metadata": {
        "id": "Okx6cgJiYycY"
      }
    },
    {
      "cell_type": "code",
      "source": [
        "from torchvision.transforms.transforms import RandomHorizontalFlip\n",
        "train_transform = transforms.Compose([\n",
        "        transforms.RandomResizedCrop(224),\n",
        "        transforms.RandomHorizontalFlip(),\n",
        "        transforms.ToTensor(),\n",
        "        transforms.Normalize((0.485, 0.456, 0.406), (0.229, 0.224, 0.225))\n",
        "]) \n",
        "val_transform = transforms.Compose([\n",
        "        transforms.Resize(224),\n",
        "        transforms.ToTensor(),\n",
        "        transforms.Normalize((0.485, 0.456, 0.406), (0.229, 0.224, 0.225))\n",
        "]) \n",
        "train_dataset = datasets.STL10(root='/tmp', split='train', transform=train_transform, download=True)\n",
        "val_dataset = datasets.STL10(root='/tmp', split='test', transform=val_transform, download=True)\n",
        "\n",
        "train_loader = DataLoader(dataset=train_dataset, num_workers=2, batch_size=BATCH_SIZE)\n",
        "val_loader = DataLoader(dataset=val_dataset, num_workers=2, batch_size=BATCH_SIZE)"
      ],
      "metadata": {
        "colab": {
          "base_uri": "https://localhost:8080/"
        },
        "id": "f6CZu9qZBt5s",
        "outputId": "4ef5c08a-1ccb-49d7-c837-d215e5803fb9"
      },
      "execution_count": 12,
      "outputs": [
        {
          "output_type": "stream",
          "name": "stdout",
          "text": [
            "Files already downloaded and verified\n",
            "Files already downloaded and verified\n"
          ]
        }
      ]
    },
    {
      "cell_type": "markdown",
      "source": [
        "# Model Prep.\n",
        "\n",
        "We need to perform two steps after initialising the model.\n",
        "\n",
        "1. Replace the final classification layer to suit the `STL-10` dataset.\n",
        "2. Freeze the parameters for all layers except the classification layer."
      ],
      "metadata": {
        "id": "_Fzbir_ZZEcc"
      }
    },
    {
      "cell_type": "code",
      "source": [
        "model = eqv.models.vgg11(pretrained=True)\n",
        "\n",
        "# Replacing the last layer for STL-10\n",
        "model = eqx.tree_at(\n",
        "    lambda m: m.classifier, \n",
        "    model, \n",
        "    (eqx.nn.Linear(512 *7*7, 10, key=jrandom.PRNGKey(0)))\n",
        ")\n",
        "\n",
        "# Freezing the model except for the last layer\n",
        "filter_spec = jax.tree_util.tree_map(lambda _: False, model)\n",
        "filter_spec = eqx.tree_at(\n",
        "    lambda tree: (tree.classifier.weight, tree.classifier.bias),\n",
        "    filter_spec,\n",
        "    replace=(True, True),\n",
        ")"
      ],
      "metadata": {
        "id": "lIKiulTvFPUH"
      },
      "execution_count": 45,
      "outputs": []
    },
    {
      "cell_type": "markdown",
      "source": [
        "# Utility Methods\n",
        "\n",
        "The `filter_spec` decides the params w.r.t to which the gradient is computed.\n",
        "Here, we will be computing gradient w.r.t to only the `classifier` module.\n",
        "\n",
        "Check [here](https://docs.kidger.site/equinox/examples/frozen_layer/) for more details."
      ],
      "metadata": {
        "id": "AzVxnqEnY2LW"
      }
    },
    {
      "cell_type": "code",
      "source": [
        "@ft.partial(eqx.filter_value_and_grad, arg=filter_spec)\n",
        "def compute_loss(model, x, y, keys):\n",
        "    logits = jax.vmap(model, axis_name=('batch'))(x, key=keys)\n",
        "    one_hot_actual = jax.nn.one_hot(y, num_classes=10)\n",
        "    return optax.softmax_cross_entropy(logits, one_hot_actual).mean()\n",
        "        \n",
        "\n",
        "@eqx.filter_jit\n",
        "def make_step(model, x, y, keys, optimizer, opt_state):\n",
        "    loss, grads = compute_loss(model, x, y, keys)\n",
        "    updates, opt_state = optimizer.update(grads, opt_state)\n",
        "    model = eqx.apply_updates(model, updates)\n",
        "    return loss, model, opt_state\n",
        "  \n",
        "def accuracy(model, loader):\n",
        "    correct = 0.\n",
        "    total = 0.\n",
        "    for images, labels in loader:\n",
        "      keys = jrandom.split(jrandom.PRNGKey(0), images.shape[0])\n",
        "      output = jax.vmap(model, axis_name=\"batch\")(jnp.asarray(images.numpy()), key=keys)\n",
        "      pred = jnp.argmax(output, axis=1)\n",
        "\n",
        "      correct += jnp.sum(pred == labels.numpy())\n",
        "      total += images.shape[0]\n",
        "    return correct/total"
      ],
      "metadata": {
        "id": "MlDBpQUIC-1c"
      },
      "execution_count": 46,
      "outputs": []
    },
    {
      "cell_type": "markdown",
      "source": [
        "# Optimizer & Scheduler\n",
        "\n",
        "The important bit to remember is wrapping the model in `eqx.filter` before passing it on to the optimizer. This step will `fail` if you forget the filter."
      ],
      "metadata": {
        "id": "QMJAPoUbZWOW"
      }
    },
    {
      "cell_type": "code",
      "source": [
        "total_steps = EPOCHS*(len(train_loader.dataset)//BATCH_SIZE) + EPOCHS\n",
        "cosine_decay_scheduler = optax.cosine_decay_schedule(LR, decay_steps=total_steps, alpha=0.95)\n",
        "optimizer = optax.adam(learning_rate=cosine_decay_scheduler)\n",
        "opt_state = optimizer.init(eqx.filter(model, eqx.is_array))  # Wrap in a fileter to avoid passing non-JAX types"
      ],
      "metadata": {
        "id": "nTuOyb7hDgVS"
      },
      "execution_count": 47,
      "outputs": []
    },
    {
      "cell_type": "markdown",
      "source": [
        "# The Training"
      ],
      "metadata": {
        "id": "d21ktOAAZzv3"
      }
    },
    {
      "cell_type": "code",
      "source": [
        "loss = 0\n",
        "\n",
        "for epoch in range(EPOCHS):\n",
        "    for step, (x, y) in enumerate(train_loader):\n",
        "        key = jrandom.PRNGKey(epoch+x.shape[0]*step)\n",
        "        keys = jrandom.split(key, x.shape[0])\n",
        "        loss_value, model, opt_state = make_step(model, jnp.asarray(x), jnp.asarray(y), keys, optimizer, opt_state)\n",
        "        loss = 0.9*loss + 0.1*loss_value.item()\n",
        "    \n",
        "    model = eqx.tree_inference(model, True)  # Analogous to model.eval()\n",
        "    train_acc = accuracy(model, train_loader)\n",
        "    test_acc = accuracy(model, val_loader)\n",
        "    model = eqx.tree_inference(model, False)  # Back to training mode\n",
        "\n",
        "    print(f\"Epoch={epoch}, loss={loss:.4f}, tr.acc={train_acc.item():.4f}, te.acc={test_acc.item():.4f}\")"
      ],
      "metadata": {
        "id": "J4w0Ls9tFQ1E",
        "colab": {
          "base_uri": "https://localhost:8080/"
        },
        "outputId": "42b0bb04-771c-4cdc-88ca-39a0e9313937"
      },
      "execution_count": 48,
      "outputs": [
        {
          "output_type": "stream",
          "name": "stdout",
          "text": [
            "Epoch=0, loss=0.6989, tr.acc=0.8072, te.acc=0.8971\n",
            "Epoch=1, loss=0.5516, tr.acc=0.8180, te.acc=0.8978\n",
            "Epoch=2, loss=0.5008, tr.acc=0.8470, te.acc=0.9146\n",
            "Epoch=3, loss=0.4477, tr.acc=0.8514, te.acc=0.9150\n",
            "Epoch=4, loss=0.4548, tr.acc=0.8602, te.acc=0.9161\n"
          ]
        }
      ]
    },
    {
      "cell_type": "markdown",
      "source": [
        "### Verify Weights\n",
        "\n",
        "The last bit is to verify that weights of `model.features` is unchanged and only `model.classifier` is updated."
      ],
      "metadata": {
        "id": "YjSyCivdaqmE"
      }
    },
    {
      "cell_type": "code",
      "source": [
        "base_model = eqx.tree_inference(eqv.models.vgg11(pretrained=True), True)\n",
        "assert eqx.tree_equal(base_model.features, model.features)"
      ],
      "metadata": {
        "id": "E93LbpK1HAjq"
      },
      "execution_count": 50,
      "outputs": []
    },
    {
      "cell_type": "markdown",
      "source": [
        "*That's all Folks*"
      ],
      "metadata": {
        "id": "4fJqBgD4bPKN"
      }
    }
  ]
}